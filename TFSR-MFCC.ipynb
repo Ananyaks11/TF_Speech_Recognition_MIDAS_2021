{
 "cells": [
  {
   "cell_type": "code",
   "execution_count": 1,
   "metadata": {},
   "outputs": [
    {
     "name": "stdout",
     "output_type": "stream",
     "text": [
      "The data path is: ./train2/\n"
     ]
    }
   ],
   "source": [
    "# Importing required Libraries\n",
    "\n",
    "from TFSR_preprocessing import *\n",
    "import tensorflow as tf\n",
    "from tensorflow.keras.models import Sequential\n",
    "from tensorflow.keras.layers import Dense, Dropout, Flatten, Conv2D, MaxPooling2D, LSTM\n",
    "from tensorflow.keras.utils import to_categorical\n",
    "import matplotlib.pyplot as plt\n",
    "from tensorflow.keras.utils import plot_model"
   ]
  },
  {
   "cell_type": "markdown",
   "metadata": {},
   "source": [
    "## Obtaining Lables of the Training data"
   ]
  },
  {
   "cell_type": "code",
   "execution_count": 2,
   "metadata": {},
   "outputs": [
    {
     "name": "stdout",
     "output_type": "stream",
     "text": [
      "['bed', 'bird', 'cat', 'dog', 'down', 'eight', 'five', 'four', 'go', 'happy', 'house', 'left', 'marvin', 'nine', 'no', 'off', 'on', 'one', 'right', 'seven', 'sheila', 'six', 'stop', 'three', 'tree', 'two', 'up', 'wow', 'yes', 'zero']\n"
     ]
    }
   ],
   "source": [
    "import os\n",
    "labels = os.listdir(\"/home/ananya/Deep_RL/cnn-audio/train2\")\n",
    "labels.sort()\n",
    "print(labels)"
   ]
  },
  {
   "cell_type": "markdown",
   "metadata": {},
   "source": [
    "## Conversion of .wav files to MFCC"
   ]
  },
  {
   "cell_type": "code",
   "execution_count": 3,
   "metadata": {},
   "outputs": [
    {
     "name": "stdout",
     "output_type": "stream",
     "text": [
      "up\n",
      "seven\n"
     ]
    },
    {
     "name": "stderr",
     "output_type": "stream",
     "text": [
      "/home/aniket/Deep_RL/RL_env/lib/python3.6/site-packages/librosa/core/spectrum.py:224: UserWarning: n_fft=2048 is too small for input signal of length=1982\n",
      "  n_fft, y.shape[-1]\n"
     ]
    },
    {
     "name": "stdout",
     "output_type": "stream",
     "text": [
      "left\n",
      "two\n",
      "bed\n",
      "three\n",
      "house\n",
      "nine\n",
      "off\n",
      "right\n",
      "six\n",
      "eight\n",
      "sheila\n",
      "five\n",
      "on\n",
      "marvin\n",
      "zero\n",
      "bird\n",
      "tree\n",
      "four\n",
      "happy\n",
      "wow\n",
      "one\n",
      "yes\n",
      "no\n",
      "stop\n",
      "go\n",
      "down\n",
      "dog\n",
      "cat\n"
     ]
    }
   ],
   "source": [
    "# Sample Size - represents the maximum length \n",
    "sample_size = 11\n",
    "#temp - Number of MFCC Channels\n",
    "temp = 20\n",
    "\n",
    "# Save data to array file first\n",
    "Make_data_matrix(sample_size=11, n_mfcc=20)"
   ]
  },
  {
   "cell_type": "markdown",
   "metadata": {},
   "source": [
    "## Split data between training and validation set"
   ]
  },
  {
   "cell_type": "code",
   "execution_count": 4,
   "metadata": {},
   "outputs": [],
   "source": [
    "# Loading train set and test set\n",
    "X_train, X_test, y_train, y_test = Get_Data()"
   ]
  },
  {
   "cell_type": "code",
   "execution_count": 5,
   "metadata": {},
   "outputs": [
    {
     "name": "stdout",
     "output_type": "stream",
     "text": [
      "(58248, 20, 11)\n",
      "(6473, 20, 11)\n",
      "(58248,)\n",
      "(6473,)\n"
     ]
    }
   ],
   "source": [
    "print(X_train.shape)\n",
    "print(X_test.shape)\n",
    "print(y_train.shape)\n",
    "print(y_test.shape)"
   ]
  },
  {
   "cell_type": "markdown",
   "metadata": {},
   "source": [
    "### Reshape data into 3D vectors so that it can be used in Conv2D layers"
   ]
  },
  {
   "cell_type": "code",
   "execution_count": 50,
   "metadata": {},
   "outputs": [],
   "source": [
    "# Feature dimension\n",
    "channels = 1\n",
    "epochs = 100\n",
    "batch_size = 100\n",
    "\n",
    "num_classes = 30\n",
    "\n",
    "X_train = X_train.reshape(X_train.shape[0], temp, sample_size, channels)\n",
    "X_test = X_test.reshape(X_test.shape[0], temp, sample_size, channels)"
   ]
  },
  {
   "cell_type": "code",
   "execution_count": 51,
   "metadata": {},
   "outputs": [
    {
     "name": "stdout",
     "output_type": "stream",
     "text": [
      "(58248, 20, 11, 1)\n",
      "(6473, 20, 11, 1)\n",
      "(58248,)\n",
      "(6473,)\n"
     ]
    }
   ],
   "source": [
    "print(X_train.shape)\n",
    "print(X_test.shape)\n",
    "print(y_train.shape)\n",
    "print(y_test.shape)"
   ]
  },
  {
   "cell_type": "code",
   "execution_count": 52,
   "metadata": {},
   "outputs": [],
   "source": [
    "# Generate one-hot encodings for the data\n",
    "y_train_hot = to_categorical(y_train)\n",
    "y_test_hot = to_categorical(y_test)"
   ]
  },
  {
   "cell_type": "markdown",
   "metadata": {},
   "source": [
    "### Model 1 - ANN with 5 Dense Layers"
   ]
  },
  {
   "cell_type": "code",
   "execution_count": 59,
   "metadata": {
    "scrolled": true
   },
   "outputs": [
    {
     "name": "stdout",
     "output_type": "stream",
     "text": [
      "Model: \"sequential_23\"\n",
      "_________________________________________________________________\n",
      "Layer (type)                 Output Shape              Param #   \n",
      "=================================================================\n",
      "flatten_13 (Flatten)         (None, 220)               0         \n",
      "_________________________________________________________________\n",
      "dense_75 (Dense)             (None, 128)               28288     \n",
      "_________________________________________________________________\n",
      "dense_76 (Dense)             (None, 128)               16512     \n",
      "_________________________________________________________________\n",
      "dense_77 (Dense)             (None, 128)               16512     \n",
      "_________________________________________________________________\n",
      "dense_78 (Dense)             (None, 128)               16512     \n",
      "_________________________________________________________________\n",
      "dense_79 (Dense)             (None, 30)                3870      \n",
      "=================================================================\n",
      "Total params: 81,694\n",
      "Trainable params: 81,694\n",
      "Non-trainable params: 0\n",
      "_________________________________________________________________\n"
     ]
    },
    {
     "data": {
      "image/png": "[encoded data removed]",
      "text/plain": [
       "<IPython.core.display.Image object>"
      ]
     },
     "execution_count": 59,
     "metadata": {},
     "output_type": "execute_result"
    }
   ],
   "source": [
    "model = Sequential()\n",
    "model.add(Flatten(input_shape=(temp, sample_size, channels)))\n",
    "model.add(Dense(128, activation = \"relu\"))\n",
    "model.add(Dense(128, activation = \"relu\"))\n",
    "model.add(Dense(128, activation = \"relu\"))\n",
    "model.add(Dense(128, activation = \"relu\"))\n",
    "model.add(Dense(num_classes, activation='softmax'))\n",
    "model.summary()\n",
    "model.compile(loss=\"categorical_crossentropy\",\n",
    "                  optimizer=\"adam\",\n",
    "                  metrics=['accuracy'])\n",
    "plot_model(model,to_file= \"model1.png\")"
   ]
  },
  {
   "cell_type": "code",
   "execution_count": 10,
   "metadata": {},
   "outputs": [
    {
     "name": "stdout",
     "output_type": "stream",
     "text": [
      "(58248, 20, 11, 1)\n"
     ]
    }
   ],
   "source": [
    "print(X_train.shape)"
   ]
  },
  {
   "cell_type": "code",
   "execution_count": 11,
   "metadata": {},
   "outputs": [
    {
     "name": "stdout",
     "output_type": "stream",
     "text": [
      "Epoch 1/30\n",
      "1821/1821 [==============================] - 11s 3ms/step - loss: 4.4138 - accuracy: 0.1508 - val_loss: 1.7753 - val_accuracy: 0.4658\n",
      "Epoch 2/30\n",
      "1821/1821 [==============================] - 4s 2ms/step - loss: 1.6294 - accuracy: 0.5022 - val_loss: 1.3250 - val_accuracy: 0.5932\n",
      "Epoch 3/30\n",
      "1821/1821 [==============================] - 4s 2ms/step - loss: 1.2861 - accuracy: 0.6044 - val_loss: 1.2427 - val_accuracy: 0.6277\n",
      "Epoch 4/30\n",
      "1821/1821 [==============================] - 4s 2ms/step - loss: 1.1102 - accuracy: 0.6565 - val_loss: 1.1727 - val_accuracy: 0.6470\n",
      "Epoch 5/30\n",
      "1821/1821 [==============================] - 4s 2ms/step - loss: 0.9891 - accuracy: 0.6953 - val_loss: 1.1063 - val_accuracy: 0.6726\n",
      "Epoch 6/30\n",
      "1821/1821 [==============================] - 4s 2ms/step - loss: 0.9137 - accuracy: 0.7130 - val_loss: 1.0896 - val_accuracy: 0.6830\n",
      "Epoch 7/30\n",
      "1821/1821 [==============================] - 4s 2ms/step - loss: 0.8589 - accuracy: 0.7319 - val_loss: 0.9897 - val_accuracy: 0.7099\n",
      "Epoch 8/30\n",
      "1821/1821 [==============================] - 4s 2ms/step - loss: 0.8176 - accuracy: 0.7475 - val_loss: 1.0077 - val_accuracy: 0.7023\n",
      "Epoch 9/30\n",
      "1821/1821 [==============================] - 4s 2ms/step - loss: 0.7757 - accuracy: 0.7565 - val_loss: 1.0603 - val_accuracy: 0.6901\n",
      "Epoch 10/30\n",
      "1821/1821 [==============================] - 4s 2ms/step - loss: 0.7384 - accuracy: 0.7683 - val_loss: 0.9946 - val_accuracy: 0.7034\n",
      "Epoch 11/30\n",
      "1821/1821 [==============================] - 4s 2ms/step - loss: 0.7095 - accuracy: 0.7771 - val_loss: 0.9676 - val_accuracy: 0.7196\n",
      "Epoch 12/30\n",
      "1821/1821 [==============================] - 4s 2ms/step - loss: 0.6856 - accuracy: 0.7854 - val_loss: 1.0090 - val_accuracy: 0.7221\n",
      "Epoch 13/30\n",
      "1821/1821 [==============================] - 4s 2ms/step - loss: 0.6590 - accuracy: 0.7925 - val_loss: 0.9582 - val_accuracy: 0.7256\n",
      "Epoch 14/30\n",
      "1821/1821 [==============================] - 4s 2ms/step - loss: 0.6453 - accuracy: 0.7950 - val_loss: 1.0267 - val_accuracy: 0.7242\n",
      "Epoch 15/30\n",
      "1821/1821 [==============================] - 4s 2ms/step - loss: 0.6337 - accuracy: 0.7998 - val_loss: 0.9887 - val_accuracy: 0.7296\n",
      "Epoch 16/30\n",
      "1821/1821 [==============================] - 4s 2ms/step - loss: 0.6008 - accuracy: 0.8103 - val_loss: 0.9930 - val_accuracy: 0.7238\n",
      "Epoch 17/30\n",
      "1821/1821 [==============================] - 4s 2ms/step - loss: 0.5923 - accuracy: 0.8163 - val_loss: 1.0201 - val_accuracy: 0.7244\n",
      "Epoch 18/30\n",
      "1821/1821 [==============================] - 4s 2ms/step - loss: 0.5772 - accuracy: 0.8190 - val_loss: 0.9827 - val_accuracy: 0.7326\n",
      "Epoch 19/30\n",
      "1821/1821 [==============================] - 4s 2ms/step - loss: 0.5659 - accuracy: 0.8211 - val_loss: 1.0033 - val_accuracy: 0.7371\n",
      "Epoch 20/30\n",
      "1821/1821 [==============================] - 4s 2ms/step - loss: 0.5521 - accuracy: 0.8283 - val_loss: 1.0401 - val_accuracy: 0.7235\n",
      "Epoch 21/30\n",
      "1821/1821 [==============================] - 4s 2ms/step - loss: 0.5548 - accuracy: 0.8236 - val_loss: 1.0366 - val_accuracy: 0.7262\n",
      "Epoch 22/30\n",
      "1821/1821 [==============================] - 4s 2ms/step - loss: 0.5335 - accuracy: 0.8303 - val_loss: 1.0044 - val_accuracy: 0.7374\n",
      "Epoch 23/30\n",
      "1821/1821 [==============================] - 4s 2ms/step - loss: 0.5235 - accuracy: 0.8363 - val_loss: 0.9797 - val_accuracy: 0.7419\n",
      "Epoch 24/30\n",
      "1821/1821 [==============================] - 4s 2ms/step - loss: 0.5101 - accuracy: 0.8363 - val_loss: 1.0026 - val_accuracy: 0.7423\n",
      "Epoch 25/30\n",
      "1821/1821 [==============================] - 4s 2ms/step - loss: 0.5079 - accuracy: 0.8393 - val_loss: 1.0567 - val_accuracy: 0.7281\n",
      "Epoch 26/30\n",
      "1821/1821 [==============================] - 4s 2ms/step - loss: 0.5151 - accuracy: 0.8375 - val_loss: 1.0899 - val_accuracy: 0.7281\n",
      "Epoch 27/30\n",
      "1821/1821 [==============================] - 5s 3ms/step - loss: 0.4938 - accuracy: 0.8428 - val_loss: 1.0698 - val_accuracy: 0.7358\n",
      "Epoch 28/30\n",
      "1821/1821 [==============================] - 4s 2ms/step - loss: 0.4967 - accuracy: 0.8424 - val_loss: 1.0528 - val_accuracy: 0.7412\n",
      "Epoch 29/30\n",
      "1821/1821 [==============================] - 4s 2ms/step - loss: 0.4924 - accuracy: 0.8453 - val_loss: 1.0609 - val_accuracy: 0.7369\n",
      "Epoch 30/30\n",
      "1821/1821 [==============================] - 4s 2ms/step - loss: 0.4737 - accuracy: 0.8514 - val_loss: 1.0696 - val_accuracy: 0.7327\n"
     ]
    },
    {
     "data": {
      "text/plain": [
       "<tensorflow.python.keras.callbacks.History at 0x7f3a20072160>"
      ]
     },
     "execution_count": 11,
     "metadata": {},
     "output_type": "execute_result"
    }
   ],
   "source": [
    "model.fit(X_train, y_train_hot, epochs=30, validation_data=(X_test, y_test_hot))"
   ]
  },
  {
   "cell_type": "markdown",
   "metadata": {},
   "source": [
    "### MODEL 2 - CNN(1) with 1 Conv2D and 5 Dense Layers"
   ]
  },
  {
   "cell_type": "code",
   "execution_count": 55,
   "metadata": {},
   "outputs": [
    {
     "name": "stdout",
     "output_type": "stream",
     "text": [
      "Model: \"sequential_19\"\n",
      "_________________________________________________________________\n",
      "Layer (type)                 Output Shape              Param #   \n",
      "=================================================================\n",
      "conv2d_24 (Conv2D)           (None, 18, 9, 32)         320       \n",
      "_________________________________________________________________\n",
      "max_pooling2d_8 (MaxPooling2 (None, 9, 4, 32)          0         \n",
      "_________________________________________________________________\n",
      "flatten_10 (Flatten)         (None, 1152)              0         \n",
      "_________________________________________________________________\n",
      "dense_58 (Dense)             (None, 128)               147584    \n",
      "_________________________________________________________________\n",
      "dense_59 (Dense)             (None, 128)               16512     \n",
      "_________________________________________________________________\n",
      "dense_60 (Dense)             (None, 128)               16512     \n",
      "_________________________________________________________________\n",
      "dense_61 (Dense)             (None, 128)               16512     \n",
      "_________________________________________________________________\n",
      "dense_62 (Dense)             (None, 30)                3870      \n",
      "=================================================================\n",
      "Total params: 201,310\n",
      "Trainable params: 201,310\n",
      "Non-trainable params: 0\n",
      "_________________________________________________________________\n"
     ]
    },
    {
     "data": {
      "image/png": "[encoded data removed]",
      "text/plain": [
       "<IPython.core.display.Image object>"
      ]
     },
     "execution_count": 55,
     "metadata": {},
     "output_type": "execute_result"
    }
   ],
   "source": [
    "model = Sequential()\n",
    "model.add(Conv2D(32, (3,3), input_shape=(temp, sample_size, channels), activation='relu'))\n",
    "model.add(MaxPooling2D(pool_size=(2,2)))\n",
    "model.add(Flatten())\n",
    "model.add(Dense(128, activation = \"relu\"))\n",
    "model.add(Dense(128, activation = \"relu\"))\n",
    "model.add(Dense(128, activation = \"relu\"))\n",
    "model.add(Dense(128, activation = \"relu\"))\n",
    "model.add(Dense(num_classes, activation='softmax'))\n",
    "model.summary()\n",
    "model.compile(loss=\"categorical_crossentropy\",\n",
    "                  optimizer=\"adam\",\n",
    "                  metrics=['accuracy'])\n",
    "plot_model(model,to_file= \"model2.png\")"
   ]
  },
  {
   "cell_type": "code",
   "execution_count": 13,
   "metadata": {},
   "outputs": [
    {
     "name": "stdout",
     "output_type": "stream",
     "text": [
      "Epoch 1/100\n",
      "1821/1821 [==============================] - 5s 3ms/step - loss: 2.5338 - accuracy: 0.2829 - val_loss: 1.4127 - val_accuracy: 0.5708\n",
      "Epoch 2/100\n",
      "1821/1821 [==============================] - 5s 3ms/step - loss: 1.2633 - accuracy: 0.6115 - val_loss: 1.1148 - val_accuracy: 0.6694\n",
      "Epoch 3/100\n",
      "1821/1821 [==============================] - 5s 3ms/step - loss: 1.0272 - accuracy: 0.6845 - val_loss: 1.0251 - val_accuracy: 0.6893\n",
      "Epoch 4/100\n",
      "1821/1821 [==============================] - 5s 3ms/step - loss: 0.9067 - accuracy: 0.7199 - val_loss: 0.9221 - val_accuracy: 0.7201\n",
      "Epoch 5/100\n",
      "1821/1821 [==============================] - 5s 3ms/step - loss: 0.8502 - accuracy: 0.7360 - val_loss: 0.9454 - val_accuracy: 0.7171\n",
      "Epoch 6/100\n",
      "1821/1821 [==============================] - 5s 3ms/step - loss: 0.7870 - accuracy: 0.7564 - val_loss: 0.9499 - val_accuracy: 0.7105\n",
      "Epoch 7/100\n",
      "1821/1821 [==============================] - 5s 3ms/step - loss: 0.7432 - accuracy: 0.7698 - val_loss: 0.8915 - val_accuracy: 0.7363\n",
      "Epoch 8/100\n",
      "1821/1821 [==============================] - 5s 3ms/step - loss: 0.7029 - accuracy: 0.7801 - val_loss: 0.8759 - val_accuracy: 0.7366\n",
      "Epoch 9/100\n",
      "1821/1821 [==============================] - 5s 3ms/step - loss: 0.6783 - accuracy: 0.7860 - val_loss: 0.8476 - val_accuracy: 0.7459\n",
      "Epoch 10/100\n",
      "1821/1821 [==============================] - 5s 3ms/step - loss: 0.6359 - accuracy: 0.8005 - val_loss: 0.9671 - val_accuracy: 0.7215\n",
      "Epoch 11/100\n",
      "1821/1821 [==============================] - 5s 3ms/step - loss: 0.6190 - accuracy: 0.8068 - val_loss: 0.9213 - val_accuracy: 0.7389\n",
      "Epoch 12/100\n",
      "1821/1821 [==============================] - 5s 3ms/step - loss: 0.6037 - accuracy: 0.8114 - val_loss: 0.9362 - val_accuracy: 0.7354\n",
      "Epoch 13/100\n",
      "1821/1821 [==============================] - 5s 3ms/step - loss: 0.5814 - accuracy: 0.8143 - val_loss: 0.8617 - val_accuracy: 0.7551\n",
      "Epoch 14/100\n",
      "1821/1821 [==============================] - 5s 3ms/step - loss: 0.5697 - accuracy: 0.8181 - val_loss: 0.8762 - val_accuracy: 0.7483\n",
      "Epoch 15/100\n",
      "1821/1821 [==============================] - 5s 3ms/step - loss: 0.5563 - accuracy: 0.8266 - val_loss: 0.8834 - val_accuracy: 0.7522\n",
      "Epoch 16/100\n",
      "1821/1821 [==============================] - 5s 3ms/step - loss: 0.5502 - accuracy: 0.8222 - val_loss: 0.9086 - val_accuracy: 0.7439\n",
      "Epoch 17/100\n",
      "1821/1821 [==============================] - 5s 3ms/step - loss: 0.5469 - accuracy: 0.8284 - val_loss: 0.9155 - val_accuracy: 0.7471\n",
      "Epoch 18/100\n",
      "1821/1821 [==============================] - 5s 3ms/step - loss: 0.5205 - accuracy: 0.8345 - val_loss: 0.9022 - val_accuracy: 0.7559\n",
      "Epoch 19/100\n",
      "1821/1821 [==============================] - 5s 3ms/step - loss: 0.5113 - accuracy: 0.8384 - val_loss: 1.0228 - val_accuracy: 0.7378\n",
      "Epoch 20/100\n",
      "1821/1821 [==============================] - 5s 3ms/step - loss: 0.5046 - accuracy: 0.8421 - val_loss: 0.8877 - val_accuracy: 0.7629\n",
      "Epoch 21/100\n",
      "1821/1821 [==============================] - 5s 3ms/step - loss: 0.4851 - accuracy: 0.8454 - val_loss: 0.9387 - val_accuracy: 0.7565\n",
      "Epoch 22/100\n",
      "1821/1821 [==============================] - 5s 3ms/step - loss: 0.4765 - accuracy: 0.8487 - val_loss: 0.8919 - val_accuracy: 0.7607\n",
      "Epoch 23/100\n",
      "1821/1821 [==============================] - 5s 3ms/step - loss: 0.4646 - accuracy: 0.8522 - val_loss: 0.8934 - val_accuracy: 0.7633\n",
      "Epoch 24/100\n",
      "1821/1821 [==============================] - 5s 3ms/step - loss: 0.4598 - accuracy: 0.8529 - val_loss: 0.9291 - val_accuracy: 0.7684\n",
      "Epoch 25/100\n",
      "1821/1821 [==============================] - 5s 3ms/step - loss: 0.4618 - accuracy: 0.8525 - val_loss: 0.8999 - val_accuracy: 0.7619\n",
      "Epoch 26/100\n",
      "1821/1821 [==============================] - 5s 3ms/step - loss: 0.4637 - accuracy: 0.8536 - val_loss: 0.9948 - val_accuracy: 0.7565\n",
      "Epoch 27/100\n",
      "1821/1821 [==============================] - 5s 3ms/step - loss: 0.4363 - accuracy: 0.8619 - val_loss: 0.9383 - val_accuracy: 0.7553\n",
      "Epoch 28/100\n",
      "1821/1821 [==============================] - 5s 3ms/step - loss: 0.4439 - accuracy: 0.8602 - val_loss: 1.0149 - val_accuracy: 0.7488\n",
      "Epoch 29/100\n",
      "1821/1821 [==============================] - 5s 3ms/step - loss: 0.4346 - accuracy: 0.8626 - val_loss: 1.0097 - val_accuracy: 0.7517\n",
      "Epoch 30/100\n",
      "1821/1821 [==============================] - 5s 3ms/step - loss: 0.4357 - accuracy: 0.8616 - val_loss: 1.0085 - val_accuracy: 0.7573\n",
      "Epoch 31/100\n",
      "1821/1821 [==============================] - 5s 3ms/step - loss: 0.4284 - accuracy: 0.8619 - val_loss: 0.9784 - val_accuracy: 0.7619\n",
      "Epoch 32/100\n",
      "1821/1821 [==============================] - 5s 3ms/step - loss: 0.4199 - accuracy: 0.8690 - val_loss: 1.0055 - val_accuracy: 0.7588\n",
      "Epoch 33/100\n",
      "1821/1821 [==============================] - 5s 3ms/step - loss: 0.4173 - accuracy: 0.8662 - val_loss: 0.9986 - val_accuracy: 0.7639\n",
      "Epoch 34/100\n",
      "1821/1821 [==============================] - 5s 3ms/step - loss: 0.4196 - accuracy: 0.8671 - val_loss: 1.0328 - val_accuracy: 0.7533\n",
      "Epoch 35/100\n",
      "1821/1821 [==============================] - 5s 3ms/step - loss: 0.4181 - accuracy: 0.8681 - val_loss: 1.0428 - val_accuracy: 0.7541\n",
      "Epoch 36/100\n",
      "1821/1821 [==============================] - 5s 3ms/step - loss: 0.4060 - accuracy: 0.8712 - val_loss: 1.0667 - val_accuracy: 0.7534\n",
      "Epoch 37/100\n",
      "1821/1821 [==============================] - 5s 3ms/step - loss: 0.4130 - accuracy: 0.8702 - val_loss: 0.9942 - val_accuracy: 0.7630\n",
      "Epoch 38/100\n",
      "1821/1821 [==============================] - 5s 3ms/step - loss: 0.4006 - accuracy: 0.8712 - val_loss: 1.0531 - val_accuracy: 0.7584\n",
      "Epoch 39/100\n",
      "1821/1821 [==============================] - 5s 3ms/step - loss: 0.4047 - accuracy: 0.8729 - val_loss: 1.0193 - val_accuracy: 0.7647\n",
      "Epoch 40/100\n",
      "1821/1821 [==============================] - 5s 3ms/step - loss: 0.3806 - accuracy: 0.8783 - val_loss: 1.1276 - val_accuracy: 0.7490\n",
      "Epoch 41/100\n",
      "1821/1821 [==============================] - 5s 3ms/step - loss: 0.3954 - accuracy: 0.8758 - val_loss: 1.1306 - val_accuracy: 0.7463\n",
      "Epoch 42/100\n",
      "1821/1821 [==============================] - 5s 3ms/step - loss: 0.3941 - accuracy: 0.8776 - val_loss: 1.0815 - val_accuracy: 0.7584\n",
      "Epoch 43/100\n",
      "1821/1821 [==============================] - 5s 3ms/step - loss: 0.3849 - accuracy: 0.8808 - val_loss: 1.0919 - val_accuracy: 0.7653\n",
      "Epoch 44/100\n",
      "1821/1821 [==============================] - 5s 3ms/step - loss: 0.3923 - accuracy: 0.8780 - val_loss: 1.0765 - val_accuracy: 0.7590\n",
      "Epoch 45/100\n",
      "1821/1821 [==============================] - 5s 3ms/step - loss: 0.3769 - accuracy: 0.8810 - val_loss: 1.1711 - val_accuracy: 0.7564\n",
      "Epoch 46/100\n",
      "1821/1821 [==============================] - 5s 3ms/step - loss: 0.3845 - accuracy: 0.8811 - val_loss: 1.0914 - val_accuracy: 0.7564\n",
      "Epoch 47/100\n",
      "1821/1821 [==============================] - 5s 3ms/step - loss: 0.3678 - accuracy: 0.8855 - val_loss: 1.0674 - val_accuracy: 0.7647\n",
      "Epoch 48/100\n",
      "1821/1821 [==============================] - 5s 3ms/step - loss: 0.3668 - accuracy: 0.8840 - val_loss: 1.1440 - val_accuracy: 0.7524\n",
      "Epoch 49/100\n",
      "1821/1821 [==============================] - 5s 3ms/step - loss: 0.3654 - accuracy: 0.8841 - val_loss: 1.1264 - val_accuracy: 0.7567\n",
      "Epoch 50/100\n",
      "1821/1821 [==============================] - 5s 3ms/step - loss: 0.3597 - accuracy: 0.8872 - val_loss: 1.1259 - val_accuracy: 0.7570\n",
      "Epoch 51/100\n",
      "1821/1821 [==============================] - 5s 3ms/step - loss: 0.3794 - accuracy: 0.8827 - val_loss: 1.1304 - val_accuracy: 0.7604\n",
      "Epoch 52/100\n",
      "1821/1821 [==============================] - 5s 3ms/step - loss: 0.3471 - accuracy: 0.8920 - val_loss: 1.0377 - val_accuracy: 0.7663\n",
      "Epoch 53/100\n",
      "1821/1821 [==============================] - 5s 3ms/step - loss: 0.3531 - accuracy: 0.8888 - val_loss: 1.1396 - val_accuracy: 0.7537\n",
      "Epoch 54/100\n",
      "1821/1821 [==============================] - 5s 3ms/step - loss: 0.3642 - accuracy: 0.8861 - val_loss: 1.1306 - val_accuracy: 0.7554\n",
      "Epoch 55/100\n",
      "1821/1821 [==============================] - 5s 3ms/step - loss: 0.3667 - accuracy: 0.8841 - val_loss: 1.1560 - val_accuracy: 0.7689\n",
      "Epoch 56/100\n",
      "1821/1821 [==============================] - 5s 3ms/step - loss: 0.3435 - accuracy: 0.8920 - val_loss: 1.2159 - val_accuracy: 0.7474\n",
      "Epoch 57/100\n",
      "1821/1821 [==============================] - 5s 3ms/step - loss: 0.3873 - accuracy: 0.8822 - val_loss: 1.1428 - val_accuracy: 0.7709\n",
      "Epoch 58/100\n",
      "1821/1821 [==============================] - 5s 3ms/step - loss: 0.3580 - accuracy: 0.8886 - val_loss: 1.1623 - val_accuracy: 0.7658\n",
      "Epoch 59/100\n",
      "1821/1821 [==============================] - 5s 3ms/step - loss: 0.3611 - accuracy: 0.8880 - val_loss: 1.1536 - val_accuracy: 0.7646\n",
      "Epoch 60/100\n",
      "1821/1821 [==============================] - 5s 3ms/step - loss: 0.3596 - accuracy: 0.8896 - val_loss: 1.2176 - val_accuracy: 0.7581\n",
      "Epoch 61/100\n",
      "1821/1821 [==============================] - 5s 3ms/step - loss: 0.3517 - accuracy: 0.8905 - val_loss: 1.1528 - val_accuracy: 0.7618\n",
      "Epoch 62/100\n",
      "1821/1821 [==============================] - 5s 3ms/step - loss: 0.3484 - accuracy: 0.8928 - val_loss: 1.2606 - val_accuracy: 0.7624\n",
      "Epoch 63/100\n",
      "1821/1821 [==============================] - 5s 3ms/step - loss: 0.3535 - accuracy: 0.8918 - val_loss: 1.2673 - val_accuracy: 0.7273\n",
      "Epoch 64/100\n",
      "1821/1821 [==============================] - 5s 3ms/step - loss: 0.3628 - accuracy: 0.8876 - val_loss: 1.2077 - val_accuracy: 0.7502\n",
      "Epoch 65/100\n",
      "1821/1821 [==============================] - 5s 3ms/step - loss: 0.3431 - accuracy: 0.8943 - val_loss: 1.1756 - val_accuracy: 0.7635\n",
      "Epoch 66/100\n",
      "1821/1821 [==============================] - 5s 3ms/step - loss: 0.3354 - accuracy: 0.8952 - val_loss: 1.1415 - val_accuracy: 0.7604\n",
      "Epoch 67/100\n",
      "1821/1821 [==============================] - 5s 3ms/step - loss: 0.3602 - accuracy: 0.8887 - val_loss: 1.2845 - val_accuracy: 0.7469\n",
      "Epoch 68/100\n",
      "1821/1821 [==============================] - 5s 3ms/step - loss: 0.3548 - accuracy: 0.8909 - val_loss: 1.2228 - val_accuracy: 0.7528\n",
      "Epoch 69/100\n",
      "1821/1821 [==============================] - 5s 3ms/step - loss: 0.3666 - accuracy: 0.8887 - val_loss: 1.2749 - val_accuracy: 0.7588\n",
      "Epoch 70/100\n",
      "1821/1821 [==============================] - 5s 3ms/step - loss: 0.3676 - accuracy: 0.8884 - val_loss: 1.2678 - val_accuracy: 0.7636\n",
      "Epoch 71/100\n",
      "1821/1821 [==============================] - 5s 3ms/step - loss: 0.3401 - accuracy: 0.8977 - val_loss: 1.2711 - val_accuracy: 0.7522\n",
      "Epoch 72/100\n",
      "1821/1821 [==============================] - 5s 3ms/step - loss: 0.3594 - accuracy: 0.8902 - val_loss: 1.1818 - val_accuracy: 0.7636\n",
      "Epoch 73/100\n",
      "1821/1821 [==============================] - 5s 3ms/step - loss: 0.3321 - accuracy: 0.8997 - val_loss: 1.2030 - val_accuracy: 0.7607\n",
      "Epoch 74/100\n",
      "1821/1821 [==============================] - 5s 3ms/step - loss: 0.3363 - accuracy: 0.8967 - val_loss: 1.2819 - val_accuracy: 0.7663\n",
      "Epoch 75/100\n",
      "1821/1821 [==============================] - 5s 3ms/step - loss: 0.3249 - accuracy: 0.9003 - val_loss: 1.3050 - val_accuracy: 0.7503\n",
      "Epoch 76/100\n",
      "1821/1821 [==============================] - 5s 3ms/step - loss: 0.3612 - accuracy: 0.8932 - val_loss: 1.3653 - val_accuracy: 0.7513\n",
      "Epoch 77/100\n",
      "1821/1821 [==============================] - 5s 3ms/step - loss: 0.3421 - accuracy: 0.8951 - val_loss: 1.2545 - val_accuracy: 0.7622\n",
      "Epoch 78/100\n",
      "1821/1821 [==============================] - 5s 3ms/step - loss: 0.3243 - accuracy: 0.9021 - val_loss: 1.3024 - val_accuracy: 0.7547\n",
      "Epoch 79/100\n",
      "1821/1821 [==============================] - 5s 3ms/step - loss: 0.3354 - accuracy: 0.8987 - val_loss: 1.1714 - val_accuracy: 0.7652\n",
      "Epoch 80/100\n",
      "1821/1821 [==============================] - 5s 3ms/step - loss: 0.3587 - accuracy: 0.8936 - val_loss: 1.2598 - val_accuracy: 0.7626\n",
      "Epoch 81/100\n",
      "1821/1821 [==============================] - 5s 3ms/step - loss: 0.3407 - accuracy: 0.8958 - val_loss: 1.2698 - val_accuracy: 0.7556\n",
      "Epoch 82/100\n",
      "1821/1821 [==============================] - 5s 3ms/step - loss: 0.3343 - accuracy: 0.8985 - val_loss: 1.2303 - val_accuracy: 0.7596\n",
      "Epoch 83/100\n",
      "1821/1821 [==============================] - 5s 3ms/step - loss: 0.3324 - accuracy: 0.9003 - val_loss: 1.2703 - val_accuracy: 0.7633\n",
      "Epoch 84/100\n",
      "1821/1821 [==============================] - 5s 3ms/step - loss: 0.3352 - accuracy: 0.8985 - val_loss: 1.3284 - val_accuracy: 0.7619\n",
      "Epoch 85/100\n",
      "1821/1821 [==============================] - 5s 3ms/step - loss: 0.3537 - accuracy: 0.8944 - val_loss: 1.3846 - val_accuracy: 0.7604\n",
      "Epoch 86/100\n",
      "1821/1821 [==============================] - 5s 3ms/step - loss: 0.3287 - accuracy: 0.9004 - val_loss: 1.3255 - val_accuracy: 0.7609\n",
      "Epoch 87/100\n",
      "1821/1821 [==============================] - 5s 3ms/step - loss: 0.3534 - accuracy: 0.8954 - val_loss: 1.3476 - val_accuracy: 0.7571\n",
      "Epoch 88/100\n",
      "1821/1821 [==============================] - 5s 3ms/step - loss: 0.3271 - accuracy: 0.9016 - val_loss: 1.3864 - val_accuracy: 0.7516\n",
      "Epoch 89/100\n",
      "1821/1821 [==============================] - 5s 3ms/step - loss: 0.3346 - accuracy: 0.8995 - val_loss: 1.2831 - val_accuracy: 0.7663\n",
      "Epoch 90/100\n",
      "1821/1821 [==============================] - 5s 3ms/step - loss: 0.3477 - accuracy: 0.8967 - val_loss: 1.3471 - val_accuracy: 0.7627\n",
      "Epoch 91/100\n",
      "1821/1821 [==============================] - 5s 3ms/step - loss: 0.3359 - accuracy: 0.9000 - val_loss: 1.2508 - val_accuracy: 0.7653\n",
      "Epoch 92/100\n",
      "1821/1821 [==============================] - 5s 3ms/step - loss: 0.3209 - accuracy: 0.9029 - val_loss: 1.3365 - val_accuracy: 0.7494\n",
      "Epoch 93/100\n",
      "1821/1821 [==============================] - 5s 3ms/step - loss: 0.3160 - accuracy: 0.9040 - val_loss: 1.3003 - val_accuracy: 0.7537\n",
      "Epoch 94/100\n",
      "1821/1821 [==============================] - 5s 3ms/step - loss: 0.3520 - accuracy: 0.8977 - val_loss: 1.4467 - val_accuracy: 0.7417\n",
      "Epoch 95/100\n",
      "1821/1821 [==============================] - 5s 3ms/step - loss: 0.3435 - accuracy: 0.8994 - val_loss: 1.2999 - val_accuracy: 0.7588\n",
      "Epoch 96/100\n",
      "1821/1821 [==============================] - 5s 3ms/step - loss: 0.3155 - accuracy: 0.9047 - val_loss: 1.2932 - val_accuracy: 0.7610\n",
      "Epoch 97/100\n",
      "1821/1821 [==============================] - 5s 3ms/step - loss: 0.3266 - accuracy: 0.9036 - val_loss: 1.3369 - val_accuracy: 0.7593\n",
      "Epoch 98/100\n",
      "1821/1821 [==============================] - 5s 3ms/step - loss: 0.3103 - accuracy: 0.9067 - val_loss: 1.3417 - val_accuracy: 0.7590\n",
      "Epoch 99/100\n",
      "1821/1821 [==============================] - 5s 3ms/step - loss: 0.3500 - accuracy: 0.8982 - val_loss: 1.4082 - val_accuracy: 0.7534\n",
      "Epoch 100/100\n",
      "1821/1821 [==============================] - 5s 3ms/step - loss: 0.3267 - accuracy: 0.9035 - val_loss: 1.2852 - val_accuracy: 0.7590\n"
     ]
    },
    {
     "data": {
      "text/plain": [
       "<tensorflow.python.keras.callbacks.History at 0x7efcac683198>"
      ]
     },
     "execution_count": 13,
     "metadata": {},
     "output_type": "execute_result"
    }
   ],
   "source": [
    "model.fit(X_train, y_train_hot, epochs=epochs, validation_data=(X_test, y_test_hot))"
   ]
  },
  {
   "cell_type": "code",
   "execution_count": 16,
   "metadata": {},
   "outputs": [],
   "source": [
    "from tensorflow.keras.layers import BatchNormalization"
   ]
  },
  {
   "cell_type": "markdown",
   "metadata": {},
   "source": [
    "### Model 3 - CNN with 4 Conv2D , 4 Dense and Batch Normalization layers"
   ]
  },
  {
   "cell_type": "code",
   "execution_count": 57,
   "metadata": {},
   "outputs": [
    {
     "name": "stdout",
     "output_type": "stream",
     "text": [
      "Model: \"sequential_21\"\n",
      "_________________________________________________________________\n",
      "Layer (type)                 Output Shape              Param #   \n",
      "=================================================================\n",
      "conv2d_29 (Conv2D)           (None, 18, 9, 8)          80        \n",
      "_________________________________________________________________\n",
      "conv2d_30 (Conv2D)           (None, 16, 7, 8)          584       \n",
      "_________________________________________________________________\n",
      "conv2d_31 (Conv2D)           (None, 14, 5, 32)         2336      \n",
      "_________________________________________________________________\n",
      "conv2d_32 (Conv2D)           (None, 12, 3, 32)         9248      \n",
      "_________________________________________________________________\n",
      "max_pooling2d_10 (MaxPooling (None, 6, 1, 32)          0         \n",
      "_________________________________________________________________\n",
      "dropout_9 (Dropout)          (None, 6, 1, 32)          0         \n",
      "_________________________________________________________________\n",
      "flatten_12 (Flatten)         (None, 192)               0         \n",
      "_________________________________________________________________\n",
      "dense_67 (Dense)             (None, 128)               24704     \n",
      "_________________________________________________________________\n",
      "batch_normalization_27 (Batc (None, 128)               512       \n",
      "_________________________________________________________________\n",
      "dense_68 (Dense)             (None, 128)               16512     \n",
      "_________________________________________________________________\n",
      "batch_normalization_28 (Batc (None, 128)               512       \n",
      "_________________________________________________________________\n",
      "dense_69 (Dense)             (None, 128)               16512     \n",
      "_________________________________________________________________\n",
      "batch_normalization_29 (Batc (None, 128)               512       \n",
      "_________________________________________________________________\n",
      "dense_70 (Dense)             (None, 30)                3870      \n",
      "=================================================================\n",
      "Total params: 75,382\n",
      "Trainable params: 74,614\n",
      "Non-trainable params: 768\n",
      "_________________________________________________________________\n"
     ]
    },
    {
     "data": {
      "image/png": "[encoded data removed]",
      "text/plain": [
       "<IPython.core.display.Image object>"
      ]
     },
     "execution_count": 57,
     "metadata": {},
     "output_type": "execute_result"
    }
   ],
   "source": [
    "model = Sequential()\n",
    "\n",
    "model.add(Conv2D(8, (3,3), input_shape=(temp, sample_size, channels), activation='relu'))\n",
    "model.add(Conv2D(8, (3,3), activation='relu'))\n",
    "# model.add(MaxPooling2D(pool_size=(2,2)))\n",
    "# model.add(Dropout(rate=0.2))\n",
    "\n",
    "# model.add(Conv2D(16, (3,3), activation='relu'))\n",
    "# model.add(Conv2D(16, (3,3), activation='relu'))\n",
    "# model.add(MaxPooling2D(pool_size=(2,2)))\n",
    "# model.add(Dropout(rate=0.2))\n",
    "\n",
    "model.add(Conv2D(32, (3,3), activation='relu'))\n",
    "model.add(Conv2D(32, (3,3), activation='relu'))\n",
    "model.add(MaxPooling2D(pool_size=(2,2)))\n",
    "model.add(Dropout(rate=0.2))\n",
    "\n",
    "model.add(Flatten())\n",
    "model.add(Dense(128, activation = \"relu\"))\n",
    "model.add(BatchNormalization())\n",
    "model.add(Dense(128, activation = \"relu\"))\n",
    "model.add(BatchNormalization())\n",
    "model.add(Dense(128, activation = \"relu\"))\n",
    "model.add(BatchNormalization())\n",
    "model.add(Dense(num_classes, activation='softmax'))\n",
    "\n",
    "model.summary()\n",
    "model.compile(loss=\"categorical_crossentropy\",\n",
    "                  optimizer=\"adam\",\n",
    "                  metrics=['accuracy'])\n",
    "plot_model(model,to_file= \"model3.png\")"
   ]
  },
  {
   "cell_type": "code",
   "execution_count": 21,
   "metadata": {},
   "outputs": [
    {
     "name": "stdout",
     "output_type": "stream",
     "text": [
      "Epoch 1/30\n",
      "1821/1821 [==============================] - 56s 11ms/step - loss: 3.0161 - accuracy: 0.1672 - val_loss: 1.6243 - val_accuracy: 0.5058\n",
      "Epoch 2/30\n",
      "1821/1821 [==============================] - 11s 6ms/step - loss: 1.7547 - accuracy: 0.4684 - val_loss: 1.2379 - val_accuracy: 0.6238\n",
      "Epoch 3/30\n",
      "1821/1821 [==============================] - 10s 5ms/step - loss: 1.4354 - accuracy: 0.5654 - val_loss: 1.0479 - val_accuracy: 0.6763\n",
      "Epoch 4/30\n",
      "1821/1821 [==============================] - 10s 6ms/step - loss: 1.2635 - accuracy: 0.6148 - val_loss: 0.9685 - val_accuracy: 0.7023\n",
      "Epoch 5/30\n",
      "1821/1821 [==============================] - 10s 5ms/step - loss: 1.1686 - accuracy: 0.6438 - val_loss: 0.9229 - val_accuracy: 0.7171\n",
      "Epoch 6/30\n",
      "1821/1821 [==============================] - 10s 6ms/step - loss: 1.1032 - accuracy: 0.6623 - val_loss: 0.8952 - val_accuracy: 0.7221\n",
      "Epoch 7/30\n",
      "1821/1821 [==============================] - 12s 6ms/step - loss: 1.0527 - accuracy: 0.6725 - val_loss: 0.8254 - val_accuracy: 0.7449\n",
      "Epoch 8/30\n",
      "1821/1821 [==============================] - 10s 6ms/step - loss: 1.0064 - accuracy: 0.6897 - val_loss: 0.8338 - val_accuracy: 0.7420\n",
      "Epoch 9/30\n",
      "1821/1821 [==============================] - 10s 5ms/step - loss: 0.9682 - accuracy: 0.7007 - val_loss: 0.7843 - val_accuracy: 0.7602\n",
      "Epoch 10/30\n",
      "1821/1821 [==============================] - 10s 6ms/step - loss: 0.9396 - accuracy: 0.7077 - val_loss: 0.7569 - val_accuracy: 0.7650\n",
      "Epoch 11/30\n",
      "1821/1821 [==============================] - 10s 6ms/step - loss: 0.9048 - accuracy: 0.7189 - val_loss: 0.7334 - val_accuracy: 0.7757\n",
      "Epoch 12/30\n",
      "1821/1821 [==============================] - 10s 6ms/step - loss: 0.8906 - accuracy: 0.7214 - val_loss: 0.7533 - val_accuracy: 0.7710\n",
      "Epoch 13/30\n",
      "1821/1821 [==============================] - 11s 6ms/step - loss: 0.8653 - accuracy: 0.7292 - val_loss: 0.7188 - val_accuracy: 0.7853\n",
      "Epoch 14/30\n",
      "1821/1821 [==============================] - 11s 6ms/step - loss: 0.8471 - accuracy: 0.7366 - val_loss: 0.7268 - val_accuracy: 0.7752\n",
      "Epoch 15/30\n",
      "1821/1821 [==============================] - 10s 6ms/step - loss: 0.8487 - accuracy: 0.7376 - val_loss: 0.6877 - val_accuracy: 0.7871\n",
      "Epoch 16/30\n",
      "1821/1821 [==============================] - 10s 6ms/step - loss: 0.8256 - accuracy: 0.7428 - val_loss: 0.7031 - val_accuracy: 0.7842\n",
      "Epoch 17/30\n",
      "1821/1821 [==============================] - 10s 6ms/step - loss: 0.8115 - accuracy: 0.7439 - val_loss: 0.6815 - val_accuracy: 0.7922\n",
      "Epoch 18/30\n",
      "1821/1821 [==============================] - 10s 5ms/step - loss: 0.7943 - accuracy: 0.7503 - val_loss: 0.7140 - val_accuracy: 0.7848\n",
      "Epoch 19/30\n",
      "1821/1821 [==============================] - 10s 6ms/step - loss: 0.7902 - accuracy: 0.7515 - val_loss: 0.6620 - val_accuracy: 0.7951\n",
      "Epoch 20/30\n",
      "1821/1821 [==============================] - 10s 6ms/step - loss: 0.7787 - accuracy: 0.7559 - val_loss: 0.6646 - val_accuracy: 0.7938\n",
      "Epoch 21/30\n",
      "1821/1821 [==============================] - 11s 6ms/step - loss: 0.7733 - accuracy: 0.7585 - val_loss: 0.6753 - val_accuracy: 0.7921\n",
      "Epoch 22/30\n",
      "1821/1821 [==============================] - 11s 6ms/step - loss: 0.7621 - accuracy: 0.7618 - val_loss: 0.6582 - val_accuracy: 0.8038\n",
      "Epoch 23/30\n",
      "1821/1821 [==============================] - 10s 6ms/step - loss: 0.7590 - accuracy: 0.7646 - val_loss: 0.6721 - val_accuracy: 0.7922\n",
      "Epoch 24/30\n",
      "1821/1821 [==============================] - 11s 6ms/step - loss: 0.7403 - accuracy: 0.7654 - val_loss: 0.6312 - val_accuracy: 0.8064\n",
      "Epoch 25/30\n",
      "1821/1821 [==============================] - 11s 6ms/step - loss: 0.7330 - accuracy: 0.7715 - val_loss: 0.6363 - val_accuracy: 0.8061\n",
      "Epoch 26/30\n",
      "1821/1821 [==============================] - 11s 6ms/step - loss: 0.7227 - accuracy: 0.7720 - val_loss: 0.6266 - val_accuracy: 0.8080\n",
      "Epoch 27/30\n",
      "1821/1821 [==============================] - 11s 6ms/step - loss: 0.7127 - accuracy: 0.7771 - val_loss: 0.6601 - val_accuracy: 0.7956\n",
      "Epoch 28/30\n",
      "1821/1821 [==============================] - 10s 6ms/step - loss: 0.7132 - accuracy: 0.7754 - val_loss: 0.6371 - val_accuracy: 0.8040\n",
      "Epoch 29/30\n",
      "1821/1821 [==============================] - 11s 6ms/step - loss: 0.7104 - accuracy: 0.7753 - val_loss: 0.6546 - val_accuracy: 0.7996\n",
      "Epoch 30/30\n",
      "1821/1821 [==============================] - 11s 6ms/step - loss: 0.7010 - accuracy: 0.7801 - val_loss: 0.6176 - val_accuracy: 0.8114\n"
     ]
    },
    {
     "data": {
      "text/plain": [
       "<tensorflow.python.keras.callbacks.History at 0x7f39a829a6d8>"
      ]
     },
     "execution_count": 21,
     "metadata": {},
     "output_type": "execute_result"
    }
   ],
   "source": [
    "model.fit(X_train, y_train_hot, epochs=30, validation_data=(X_test, y_test_hot))"
   ]
  },
  {
   "cell_type": "markdown",
   "metadata": {},
   "source": [
    "### Import LSTM layer and reshape data to 2D vector  "
   ]
  },
  {
   "cell_type": "code",
   "execution_count": 22,
   "metadata": {},
   "outputs": [],
   "source": [
    "from tensorflow.keras.layers import LSTM"
   ]
  },
  {
   "cell_type": "code",
   "execution_count": 23,
   "metadata": {},
   "outputs": [],
   "source": [
    "X_train, X_test, y_train, y_test = get_train_test()"
   ]
  },
  {
   "cell_type": "code",
   "execution_count": 24,
   "metadata": {},
   "outputs": [
    {
     "name": "stdout",
     "output_type": "stream",
     "text": [
      "(58248, 20, 11)\n",
      "(6473, 20, 11)\n",
      "(58248,)\n",
      "(6473,)\n"
     ]
    }
   ],
   "source": [
    "X_train = X_train.reshape(X_train.shape[0], buckets, sample_size)\n",
    "X_test = X_test.reshape(X_test.shape[0], buckets, sample_size)\n",
    "y_train_hot = to_categorical(y_train)\n",
    "y_test_hot = to_categorical(y_test)\n",
    "\n",
    "print(X_train.shape)\n",
    "print(X_test.shape)\n",
    "print(y_train.shape)\n",
    "print(y_test.shape)"
   ]
  },
  {
   "cell_type": "markdown",
   "metadata": {},
   "source": [
    "### Model - 4 - LSTM with 1 Layer LSTM and 4 Dense Layers"
   ]
  },
  {
   "cell_type": "code",
   "execution_count": 58,
   "metadata": {},
   "outputs": [
    {
     "name": "stdout",
     "output_type": "stream",
     "text": [
      "WARNING:tensorflow:Layer lstm_5 will not use cuDNN kernel since it doesn't meet the cuDNN kernel criteria. It will use generic GPU kernel as fallback when running on GPU\n",
      "Model: \"sequential_22\"\n",
      "_________________________________________________________________\n",
      "Layer (type)                 Output Shape              Param #   \n",
      "=================================================================\n",
      "lstm_5 (LSTM)                (None, 256)               274432    \n",
      "_________________________________________________________________\n",
      "dense_71 (Dense)             (None, 128)               32896     \n",
      "_________________________________________________________________\n",
      "batch_normalization_30 (Batc (None, 128)               512       \n",
      "_________________________________________________________________\n",
      "dense_72 (Dense)             (None, 128)               16512     \n",
      "_________________________________________________________________\n",
      "batch_normalization_31 (Batc (None, 128)               512       \n",
      "_________________________________________________________________\n",
      "dense_73 (Dense)             (None, 128)               16512     \n",
      "_________________________________________________________________\n",
      "batch_normalization_32 (Batc (None, 128)               512       \n",
      "_________________________________________________________________\n",
      "dense_74 (Dense)             (None, 30)                3870      \n",
      "=================================================================\n",
      "Total params: 345,758\n",
      "Trainable params: 344,990\n",
      "Non-trainable params: 768\n",
      "_________________________________________________________________\n"
     ]
    },
    {
     "data": {
      "image/png": "[encoded data removed]",
      "text/plain": [
       "<IPython.core.display.Image object>"
      ]
     },
     "execution_count": 58,
     "metadata": {},
     "output_type": "execute_result"
    }
   ],
   "source": [
    "model = Sequential()\n",
    "\n",
    "model.add(LSTM(256, input_shape=(buckets, sample_size), activation='relu'))\n",
    "\n",
    "model.add(Dense(128, activation = \"relu\"))\n",
    "model.add(BatchNormalization())\n",
    "model.add(Dense(128, activation = \"relu\"))\n",
    "model.add(BatchNormalization())\n",
    "model.add(Dense(128, activation = \"relu\"))\n",
    "model.add(BatchNormalization())\n",
    "model.add(Dense(num_classes, activation='softmax'))\n",
    "\n",
    "model.summary()\n",
    "model.compile(loss=\"categorical_crossentropy\",\n",
    "                  optimizer=\"adam\",\n",
    "                  metrics=['accuracy'])\n",
    "plot_model(model,to_file= \"model4.png\")"
   ]
  },
  {
   "cell_type": "code",
   "execution_count": 33,
   "metadata": {},
   "outputs": [
    {
     "name": "stdout",
     "output_type": "stream",
     "text": [
      "Epoch 1/10\n",
      "1821/1821 [==============================] - 38s 20ms/step - loss: 3.5296 - accuracy: 0.0414 - val_loss: 3.4260 - val_accuracy: 0.0445\n",
      "Epoch 2/10\n",
      "1821/1821 [==============================] - 37s 21ms/step - loss: 3.3951 - accuracy: 0.0462 - val_loss: 4.5077 - val_accuracy: 0.0496\n",
      "Epoch 3/10\n",
      "1821/1821 [==============================] - 37s 20ms/step - loss: 3.2756 - accuracy: 0.0647 - val_loss: 3.4113 - val_accuracy: 0.0521\n",
      "Epoch 4/10\n",
      "1821/1821 [==============================] - 38s 21ms/step - loss: 3.2371 - accuracy: 0.0680 - val_loss: 3.4219 - val_accuracy: 0.0422\n",
      "Epoch 5/10\n",
      "1821/1821 [==============================] - 38s 21ms/step - loss: 3.3555 - accuracy: 0.0517 - val_loss: 3.3445 - val_accuracy: 0.0542\n",
      "Epoch 6/10\n",
      "1821/1821 [==============================] - 38s 21ms/step - loss: 3.1722 - accuracy: 0.0760 - val_loss: 3.6353 - val_accuracy: 0.0304\n",
      "Epoch 7/10\n",
      "1821/1821 [==============================] - 38s 21ms/step - loss: 3.3447 - accuracy: 0.0501 - val_loss: 4.0529 - val_accuracy: 0.0451\n",
      "Epoch 8/10\n",
      "1821/1821 [==============================] - 38s 21ms/step - loss: 3.0537 - accuracy: 0.0976 - val_loss: 3.1001 - val_accuracy: 0.0969\n",
      "Epoch 9/10\n",
      "1821/1821 [==============================] - 38s 21ms/step - loss: 3.1288 - accuracy: 0.0841 - val_loss: 6.2126 - val_accuracy: 0.0405\n",
      "Epoch 10/10\n",
      "1821/1821 [==============================] - 39s 22ms/step - loss: 3.1098 - accuracy: 0.0860 - val_loss: 5.5337 - val_accuracy: 0.0366\n"
     ]
    },
    {
     "data": {
      "text/plain": [
       "<tensorflow.python.keras.callbacks.History at 0x7f3a332ad7b8>"
      ]
     },
     "execution_count": 33,
     "metadata": {},
     "output_type": "execute_result"
    }
   ],
   "source": [
    "model.fit(X_train, y_train_hot, epochs=10, validation_data=(X_test, y_test_hot))"
   ]
  },
  {
   "cell_type": "code",
   "execution_count": null,
   "metadata": {},
   "outputs": [],
   "source": []
  }
 ],
 "metadata": {
  "kernelspec": {
   "display_name": "Python 3",
   "language": "python",
   "name": "python3"
  },
  "language_info": {
   "codemirror_mode": {
    "name": "ipython",
    "version": 3
   },
   "file_extension": ".py",
   "mimetype": "text/x-python",
   "name": "python",
   "nbconvert_exporter": "python",
   "pygments_lexer": "ipython3",
   "version": "3.6.9"
  }
 },
 "nbformat": 4,
 "nbformat_minor": 2
}
